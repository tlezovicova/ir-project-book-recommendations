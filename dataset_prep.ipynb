{
 "cells": [
  {
   "cell_type": "code",
   "execution_count": 1,
   "metadata": {},
   "outputs": [],
   "source": [
    "import pandas as pd"
   ]
  },
  {
   "cell_type": "code",
   "execution_count": null,
   "metadata": {},
   "outputs": [
    {
     "name": "stderr",
     "output_type": "stream",
     "text": [
      "C:\\Users\\lucka\\AppData\\Local\\Temp\\ipykernel_17164\\69785850.py:3: DtypeWarning: Columns (0) have mixed types. Specify dtype option on import or set low_memory=False.\n",
      "  users = pd.read_csv('kaggle/Users.csv',delimiter=';')\n"
     ]
    }
   ],
   "source": [
    "# Reading the Kaggle datasets\n",
    "books = pd.read_csv('Books.csv',delimiter=';')\n",
    "users = pd.read_csv('Users.csv',delimiter=';')\n",
    "ratings = pd.read_csv('Ratings.csv',delimiter=';')"
   ]
  },
  {
   "cell_type": "code",
   "execution_count": 3,
   "metadata": {},
   "outputs": [],
   "source": [
    "# Users with defined age\n",
    "users = users.dropna()\n",
    "user_ids = users['User-ID'].tolist()"
   ]
  },
  {
   "cell_type": "code",
   "execution_count": 4,
   "metadata": {},
   "outputs": [],
   "source": [
    "book_ids = books['ISBN'].tolist()"
   ]
  },
  {
   "cell_type": "code",
   "execution_count": 5,
   "metadata": {},
   "outputs": [],
   "source": [
    "# First - filter the ratings to get rid of 0 values and undefined age users + book ids that are not in book table\n",
    "first_ratings = ratings[ratings['Rating']>0 & ratings['User-ID'].isin(user_ids) & ratings['ISBN'].isin(book_ids)]"
   ]
  },
  {
   "cell_type": "code",
   "execution_count": 6,
   "metadata": {},
   "outputs": [],
   "source": [
    "# Second - books that only have 5 and more ratings\n",
    "grouped_books = first_ratings.groupby('ISBN').size().reset_index(name='count')\n",
    "r_book_ids = grouped_books[grouped_books['count']>=5]['ISBN'].tolist()\n",
    "second_ratings = first_ratings[first_ratings['ISBN'].isin(r_book_ids)]"
   ]
  },
  {
   "cell_type": "code",
   "execution_count": 7,
   "metadata": {},
   "outputs": [],
   "source": [
    "# Third - user that still have 10 ratings\n",
    "grouped_users = second_ratings.groupby('User-ID').size().reset_index(name='count')\n",
    "filtered_user_ids = grouped_users[grouped_users['count']>=10]['User-ID'].tolist()\n",
    "third_ratings = second_ratings[second_ratings['User-ID'].isin(filtered_user_ids)]"
   ]
  },
  {
   "cell_type": "code",
   "execution_count": null,
   "metadata": {},
   "outputs": [],
   "source": [
    "third_ratings.to_csv('Ratings_BX_10_5.csv',index=False)"
   ]
  },
  {
   "cell_type": "code",
   "execution_count": 12,
   "metadata": {},
   "outputs": [],
   "source": [
    "final_user_ids = third_ratings.groupby('User-ID').size().reset_index(name='count')['User-ID'].tolist()\n",
    "final_user_table = users[users['User-ID'].isin(final_user_ids)]"
   ]
  },
  {
   "cell_type": "code",
   "execution_count": null,
   "metadata": {},
   "outputs": [],
   "source": [
    "final_user_table.to_csv('Users_BX_10_5.csv',index=False)"
   ]
  },
  {
   "cell_type": "code",
   "execution_count": 15,
   "metadata": {},
   "outputs": [],
   "source": [
    "final_book_ids = third_ratings.groupby('ISBN').size().reset_index(name='count')['ISBN'].tolist()\n",
    "final_books = books[books['ISBN'].isin(final_book_ids)]"
   ]
  },
  {
   "cell_type": "code",
   "execution_count": null,
   "metadata": {},
   "outputs": [],
   "source": [
    "final_books.to_csv('Books_BX_10_5.csv',index= False)"
   ]
  },
  {
   "cell_type": "code",
   "execution_count": 17,
   "metadata": {},
   "outputs": [
    {
     "name": "stdout",
     "output_type": "stream",
     "text": [
      "111008\n",
      "13581\n",
      "2653\n"
     ]
    }
   ],
   "source": [
    "print(len(third_ratings))\n",
    "print(len(final_books))\n",
    "print(len(final_user_table))"
   ]
  },
  {
   "cell_type": "code",
   "execution_count": 8,
   "metadata": {},
   "outputs": [
    {
     "name": "stdout",
     "output_type": "stream",
     "text": [
      "168627\n",
      "271379\n",
      "433671\n"
     ]
    }
   ],
   "source": [
    "print(len(user_ids))\n",
    "print(len(book_ids))\n",
    "print(len(first_ratings))"
   ]
  },
  {
   "cell_type": "code",
   "execution_count": 9,
   "metadata": {},
   "outputs": [
    {
     "name": "stdout",
     "output_type": "stream",
     "text": [
      "14535\n",
      "199477\n",
      "185973\n"
     ]
    }
   ],
   "source": [
    "print(len(r_book_ids))\n",
    "print(len(second_ratings))\n",
    "print(len(grouped_books))\n"
   ]
  },
  {
   "cell_type": "code",
   "execution_count": 10,
   "metadata": {},
   "outputs": [
    {
     "name": "stdout",
     "output_type": "stream",
     "text": [
      "111008\n",
      "3759\n"
     ]
    }
   ],
   "source": [
    "print(len(third_ratings))\n",
    "print(len(filtered_user_ids))"
   ]
  }
 ],
 "metadata": {
  "kernelspec": {
   "display_name": "base",
   "language": "python",
   "name": "python3"
  },
  "language_info": {
   "codemirror_mode": {
    "name": "ipython",
    "version": 3
   },
   "file_extension": ".py",
   "mimetype": "text/x-python",
   "name": "python",
   "nbconvert_exporter": "python",
   "pygments_lexer": "ipython3",
   "version": "3.11.5"
  }
 },
 "nbformat": 4,
 "nbformat_minor": 2
}
