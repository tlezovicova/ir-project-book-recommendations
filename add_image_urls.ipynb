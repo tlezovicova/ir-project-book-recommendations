{
 "cells": [
  {
   "cell_type": "markdown",
   "metadata": {
    "id": "ocnX5ru2c105"
   },
   "source": [
    "This code adds the image URLs to the processed book dataset that Lucy created."
   ]
  },
  {
   "cell_type": "markdown",
   "metadata": {
    "id": "WhyWbNv8X5Yx"
   },
   "source": []
  },
  {
   "cell_type": "code",
   "execution_count": null,
   "metadata": {
    "colab": {
     "base_uri": "https://localhost:8080/"
    },
    "executionInfo": {
     "elapsed": 17181,
     "status": "ok",
     "timestamp": 1743416563739,
     "user": {
      "displayName": "Mirella Günther",
      "userId": "01848864376019315581"
     },
     "user_tz": -120
    },
    "id": "FZjbkyT0X4WY",
    "outputId": "ec9aafe6-f412-4834-cbb8-c03f87e69dd1"
   },
   "outputs": [
    {
     "name": "stderr",
     "output_type": "stream",
     "text": [
      "<ipython-input-4-cd5da86d5a67>:25: DtypeWarning: Columns (3) have mixed types. Specify dtype option on import or set low_memory=False.\n",
      "  df_all_books = pd.read_csv(cleaned_file_path, delimiter=\";\", encoding=\"latin1\", on_bad_lines=\"skip\")\n"
     ]
    }
   ],
   "source": [
    "import pandas as pd\n",
    "import os\n",
    "import re\n",
    "import csv\n",
    "\n",
    "processed_books_path = \"Books-BX-10.csv\"\n",
    "all_books_path = \"Books.csv\"\n",
    "\n",
    "df_processed = pd.read_csv(processed_books_path, delimiter=\",\", encoding=\"latin1\")\n",
    "\n",
    "def remove_unquoted_semicolons(line):\n",
    "    pattern = r'(?<!\");(?!\")'\n",
    "    return re.sub(pattern, \"\", line)\n",
    "\n",
    "cleaned_rows = []\n",
    "with open(all_books_path, \"r\", encoding=\"latin1\") as f:\n",
    "    reader = csv.reader(f, delimiter=\";\")\n",
    "    for line in f:\n",
    "        cleaned_rows.append(remove_unquoted_semicolons(line).strip())\n",
    "\n",
    "cleaned_file_path = \"BX-Books_cleaned.csv\"\n",
    "with open(cleaned_file_path, \"w\", encoding=\"latin1\") as f:\n",
    "    f.writelines(\"\\n\".join(cleaned_rows))\n",
    "\n",
    "df_all_books = pd.read_csv(cleaned_file_path, delimiter=\";\", encoding=\"latin1\", on_bad_lines=\"skip\")"
   ]
  },
  {
   "cell_type": "code",
   "execution_count": null,
   "metadata": {
    "id": "aKiA19Cbv6qJ"
   },
   "outputs": [],
   "source": []
  },
  {
   "cell_type": "code",
   "execution_count": 5,
   "metadata": {
    "colab": {
     "base_uri": "https://localhost:8080/"
    },
    "executionInfo": {
     "elapsed": 462,
     "status": "ok",
     "timestamp": 1743416567760,
     "user": {
      "displayName": "Mirella Günther",
      "userId": "01848864376019315581"
     },
     "user_tz": -120
    },
    "id": "cOU8C3QfZ87I",
    "outputId": "6aef8cc7-d2dc-40e4-e7a5-40cb82827eac"
   },
   "outputs": [
    {
     "name": "stdout",
     "output_type": "stream",
     "text": [
      "Merged file saved at: /content/drive/MyDrive/IR Assignment/Books_BX_10_5_with_URLs.csv\n"
     ]
    }
   ],
   "source": [
    "df_merged = df_processed.merge(df_all_books[['ISBN', 'Image-URL-S', 'Image-URL-M', 'Image-URL-L']], on=\"ISBN\", how=\"left\")\n",
    "\n",
    "merged_output_path = os.path.join(ir_assignment_folder, \"Books_BX_10_5_with_URLs.csv\")\n",
    "df_merged.to_csv(merged_output_path, index=False, sep=\";\")\n",
    "\n",
    "print(f\"Merged file saved at: {merged_output_path}\")"
   ]
  },
  {
   "cell_type": "code",
   "execution_count": 7,
   "metadata": {
    "colab": {
     "base_uri": "https://localhost:8080/"
    },
    "executionInfo": {
     "elapsed": 5,
     "status": "ok",
     "timestamp": 1743416624955,
     "user": {
      "displayName": "Mirella Günther",
      "userId": "01848864376019315581"
     },
     "user_tz": -120
    },
    "id": "yH6FMVne6_Dc",
    "outputId": "5609eda2-00bd-451d-e67b-320e52bfec43"
   },
   "outputs": [
    {
     "name": "stdout",
     "output_type": "stream",
     "text": [
      "Number of rows: 13581\n",
      "Number of rows: 271375\n"
     ]
    }
   ],
   "source": [
    "print(f\"Number of rows: {df_merged.shape[0]}\")\n",
    "print(f\"Number of rows: {df_all_books.shape[0]}\")"
   ]
  }
 ],
 "metadata": {
  "colab": {
   "authorship_tag": "ABX9TyPTZ0rxKSrzyTG5f08RxRFU",
   "provenance": []
  },
  "kernelspec": {
   "display_name": "Python 3",
   "name": "python3"
  },
  "language_info": {
   "name": "python"
  }
 },
 "nbformat": 4,
 "nbformat_minor": 0
}
